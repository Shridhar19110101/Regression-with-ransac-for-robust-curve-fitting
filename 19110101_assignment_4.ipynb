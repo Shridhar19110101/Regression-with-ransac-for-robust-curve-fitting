{
  "nbformat": 4,
  "nbformat_minor": 0,
  "metadata": {
    "colab": {
      "name": "19110101_assignment_4.ipynb",
      "provenance": [],
      "collapsed_sections": [
        "sw2HpSOGJHGk"
      ]
    },
    "kernelspec": {
      "name": "python3",
      "display_name": "Python 3"
    },
    "language_info": {
      "name": "python"
    }
  },
  "cells": [
    {
      "cell_type": "markdown",
      "metadata": {
        "id": "sw2HpSOGJHGk"
      },
      "source": [
        "## Utils"
      ]
    },
    {
      "cell_type": "code",
      "metadata": {
        "id": "UevqwQIGHj9T"
      },
      "source": [
        "#taken from this StackOverflow answer: https://stackoverflow.com/a/39225039\n",
        "import requests\n",
        "\n",
        "def download_file_from_google_drive(id, destination):\n",
        "    URL = \"https://docs.google.com/uc?export=download\"\n",
        "\n",
        "    session = requests.Session()\n",
        "\n",
        "    response = session.get(URL, params = { 'id' : id }, stream = True)\n",
        "    token = get_confirm_token(response)\n",
        "\n",
        "    if token:\n",
        "        params = { 'id' : id, 'confirm' : token }\n",
        "        response = session.get(URL, params = params, stream = True)\n",
        "\n",
        "    save_response_content(response, destination)    \n",
        "\n",
        "def get_confirm_token(response):\n",
        "    for key, value in response.cookies.items():\n",
        "        if key.startswith('download_warning'):\n",
        "            return value\n",
        "\n",
        "    return None\n",
        "\n",
        "def save_response_content(response, destination):\n",
        "    CHUNK_SIZE = 32768\n",
        "\n",
        "    with open(destination, \"wb\") as f:\n",
        "        for chunk in response.iter_content(CHUNK_SIZE):\n",
        "            if chunk: # filter out keep-alive new chunks\n",
        "                f.write(chunk)\n",
        "\n",
        "file_id = '1-koULT_rZz1E6VJJVYa-hnLXdy6XSZe2'\n",
        "destination = '/content/data.zip'\n",
        "download_file_from_google_drive(file_id, destination)"
      ],
      "execution_count": null,
      "outputs": []
    },
    {
      "cell_type": "code",
      "metadata": {
        "id": "KnAra10oI-Jw"
      },
      "source": [
        "!unzip -q data.zip\n",
        "!rm -rf data.zip"
      ],
      "execution_count": null,
      "outputs": []
    },
    {
      "cell_type": "markdown",
      "metadata": {
        "id": "rnPZVEX8JBph"
      },
      "source": [
        "# Regression with RANSAC for Robust curve fitting (2 mark)"
      ]
    },
    {
      "cell_type": "markdown",
      "metadata": {
        "id": "i7iiCqNk6FWG"
      },
      "source": [
        "For a given polynomial, \\\\\n",
        "$$y_{i}=\\beta_{0}+\\beta_{1} x_{i}+\\beta_{2} x_{i}^{2}+\\cdots+\\beta_{m} x_{i}^{m}+\\varepsilon_{i}(i=1,2, \\ldots, n)$$\n",
        "\n",
        "we can express it in a form of matrix $\\mathbf{X}$, a response vector or $\\vec{y}$, a parameter vector $\\vec{\\beta}$, and a vector $\\vec{\\varepsilon}$ of random errors. The model can be represented as system of linear equations, i.e.\n",
        "\n",
        "\n",
        "\n",
        "$$\\left[\\begin{array}{c}y_{1} \\\\ y_{2} \\\\ y_{3} \\\\ \\vdots \\\\ y_{n}\\end{array}\\right]=\\left[\\begin{array}{ccccc}1 & x_{1} & x_{1}^{2} & \\ldots & x_{1}^{m} \\\\ 1 & x_{2} & x_{2}^{2} & \\ldots & x_{2}^{m} \\\\ 1 & x_{3} & x_{3}^{2} & \\ldots & x_{3}^{m} \\\\ \\vdots & \\vdots & \\vdots & \\ddots & \\vdots \\\\ 1 & x_{n} & x_{n}^{2} & \\ldots & x_{n}^{m}\\end{array}\\right]\\left[\\begin{array}{c}\\beta_{0} \\\\ \\beta_{1} \\\\ \\beta_{2} \\\\ \\vdots \\\\ \\beta_{m}\\end{array}\\right]+\\left[\\begin{array}{c}\\varepsilon_{1} \\\\ \\varepsilon_{2} \\\\ \\varepsilon_{3} \\\\ \\vdots \\\\ \\varepsilon_{n}\\end{array}\\right]$$\n",
        "\n",
        "$$or$$\n",
        "\n",
        "$$\\vec{y}=\\mathbf{X} \\vec{\\beta}+\\vec{\\varepsilon}$$\n",
        "\n",
        "For this system, we can calculate $\\vec{\\beta}$ by using the following formula,\n",
        "$$\n",
        "\\widehat{\\vec{\\beta}}=\\left(\\mathbf{X}^{\\top} \\mathbf{X}\\right)^{-1} \\mathbf{X}^{\\top} \\vec{y}\n",
        "$$\n",
        "\n",
        "Using **RANSAC**, we want to avoid outliers in our curve fitting, and thus we will calculate multiple $\\vec{\\beta_i}$s using a set of datapoints. After calculating several $\\vec{\\beta_i}$ we will find the best value of ${\\beta}$ using _least squares_."
      ]
    },
    {
      "cell_type": "code",
      "metadata": {
        "id": "YLaTPzG6azrs"
      },
      "source": [
        "import random\n",
        "import numpy as np\n",
        "import math\n",
        "import matplotlib.pyplot as plt\n",
        "\n",
        "\n",
        "\n",
        "class Regression:\n",
        "    def __init__(self,order,bias=True):\n",
        "        \"\"\"\n",
        "        Initialize regressor\n",
        "        :param order: order of the polynomial\n",
        "        :param bias: boolean, True for our case\n",
        "        \"\"\"\n",
        "\n",
        "        self.order = order\n",
        "        self.bias = bias\n",
        "\n",
        "        self.beta = np.zeros(order + bias)\n",
        "\n",
        "    \n",
        "    def calculation(self,x,y):\n",
        "        x_t = np.transpose(x)\n",
        "        multiply = np.dot(x_t,x)\n",
        "        inverse = np.linalg.inv(multiply)\n",
        "        temp = np.dot(inverse,x_t)\n",
        "        b_ta = np.dot(temp,y)\n",
        "        return b_ta\n",
        "\n",
        "    def solve(self,x,y,n,iterations=10000):\n",
        "        '''\n",
        "        # For 1.5 marks\n",
        "        Function to solve regression using RANSAC\n",
        "        :param x: input\n",
        "        :param y: output\n",
        "        :param n: number of dataset per iteration\n",
        "        :param iterations: number of iterations to find best beta \n",
        "        '''\n",
        "        ## TODO\n",
        "        threshold = 0.04*(order**2)\n",
        "        besterr = np.inf\n",
        "        bestfit = None\n",
        "        inliers_indices=[]\n",
        "        for i in range(iterations):\n",
        "          rand = random.sample(range(0,len(x)),n)\n",
        "          x_rand = np.zeros([n,(order+1)])\n",
        "          y_rand = np.zeros([n,1])\n",
        "          for j in range(0,n):\n",
        "            for k in range(0,order+1):\n",
        "              x_rand[j][k] = x[rand[j]]**k\n",
        "            y_rand[j][0] = y[rand[j]]\n",
        "          temp_beta = self.calculation(x_rand,y_rand)\n",
        "        \n",
        "          temp_inliers=[]\n",
        "          for j in range(0,len(x)):\n",
        "            y_function=0\n",
        "            if j not in rand:\n",
        "              for k in range(0,order+1):\n",
        "                y_function += temp_beta[k][0]*(x[j]**k)\n",
        "              if abs(y_function-y[j])<threshold:\n",
        "                temp_inliers.append(j)\n",
        "      \n",
        "          if len(temp_inliers)>len(x)*0.2:   \n",
        "            data_indices = []\n",
        "            for j in range(0,len(rand)):\n",
        "              data_indices.append(rand[j])\n",
        "            for j in range(0,len(temp_inliers)):\n",
        "              data_indices.append(temp_inliers[j])\n",
        "          \n",
        "            x_matrix_updated = np.zeros([len(data_indices),(order+1)])\n",
        "            y_matrix_updated = np.zeros([len(data_indices),1])\n",
        "            for j in range(0,len(data_indices)):\n",
        "              for k in range(0,order+1):\n",
        "                x_matrix_updated[j][k] = x[data_indices[j]]**k\n",
        "              y_matrix_updated[j][0] = y[data_indices[j]]\n",
        "            temp_beta_updated = self.calculation(x_matrix_updated,y_matrix_updated)\n",
        "        \n",
        "            error=0\n",
        "            for j in range(0,len(x)):\n",
        "              sum = 0\n",
        "              for k in range(0,order+1):\n",
        "                sum += temp_beta_updated[k][0]*(x[j]**k)\n",
        "              difference = y[j]-sum\n",
        "              error += difference**2\n",
        "            error = error/len(x)\n",
        "            if error < besterr:\n",
        "              bestfit = temp_beta_updated\n",
        "              besterr = error\n",
        "        \n",
        "        inliers_x=[]\n",
        "        inliers_y=[]\n",
        "        for j in range(0,len(x)):\n",
        "            y_value=0\n",
        "            for k in range(0,order+1):\n",
        "              y_value += bestfit[k][0]*(x[j]**k)\n",
        "            if abs(y_value-y[j])<threshold:\n",
        "              inliers_indices.append(j)\n",
        "              inliers_x.append(x[j])\n",
        "              inliers_y.append(y[j])\n",
        "        print(bestfit)\n",
        "        print(besterr)\n",
        "  \n",
        "        return besterr, bestfit, inliers_x,inliers_y,inliers_indices\n",
        "    \n",
        "    def visualize(self,x,y,bestfit,inliers_x,inliers_y,inliers_indices,show=False):\n",
        "        '''\n",
        "        # For 0.5 marks\n",
        "        function to visualize datapoints and optimal solution.\n",
        "        '''\n",
        "        # TODO\n",
        "        p=np.linspace(-1, 1, 100)\n",
        "        y_p=[]\n",
        "\n",
        "        for j in range(0,len(p)):\n",
        "          sum = 0\n",
        "          for k in range(0,bestfit.shape[0]):\n",
        "            sum += bestfit[k][0]*(p[j]**k)\n",
        "          y_p.append(sum)\n",
        "\n",
        "        outliers_x  =[]\n",
        "        outliers_y = []\n",
        "        for j in range(0,len(x)):\n",
        "          if j not in inliers_indices:\n",
        "            outliers_x.append(x[j])\n",
        "            outliers_y.append(y[j])\n",
        "        \n",
        "        fig = plt.figure(figsize =(10, 10))\n",
        "        plt.plot(p,y_p, label=\"bestfit\",color=\"blue\")\n",
        "        plt.scatter(inliers_x,inliers_y, label=\"inliers\",color=\"green\")\n",
        "        plt.scatter(outliers_x,outliers_y,label=\"outliers\",color=\"red\")\n",
        "        plt.legend()\n",
        "        plt.show()\n"
      ],
      "execution_count": null,
      "outputs": []
    },
    {
      "cell_type": "markdown",
      "metadata": {
        "id": "Kg39Ez-ELyIC"
      },
      "source": [
        "## Solve and Visualize for 2nd Order (1.5 mark)\n",
        "\n",
        "Load the dataset, solve the regression, and finally report the coeffecients, with best least square error. Also visualize it on graph."
      ]
    },
    {
      "cell_type": "code",
      "metadata": {
        "id": "w22oHuxQLwiK",
        "colab": {
          "base_uri": "https://localhost:8080/",
          "height": 665
        },
        "outputId": "0fda61bb-d253-4ba4-d0af-e4a06d5b98e0"
      },
      "source": [
        "import pandas as pd\n",
        "\n",
        "file=pd.read_csv('2nd_order.csv')\n",
        "X=file['x']\n",
        "Y=file['y']\n",
        "n=40\n",
        "order=2\n",
        "object1 = Regression(order=2,bias=True)\n",
        "besterr,bestfit,inliers_x,inliers_y,inliers_indices= object1.solve(X,Y,n,10000)\n",
        "\n",
        "object1.visualize(X,Y,bestfit,inliers_x,inliers_y,inliers_indices,True)\n",
        "\n"
      ],
      "execution_count": null,
      "outputs": [
        {
          "output_type": "stream",
          "name": "stdout",
          "text": [
            "[[1.11882074]\n",
            " [2.14463176]\n",
            " [2.84138812]]\n",
            "1.0219286362829965\n"
          ]
        },
        {
          "output_type": "display_data",
          "data": {
            "image/png": "[encoded data removed]",
            "text/plain": [
              "<Figure size 720x720 with 1 Axes>"
            ]
          },
          "metadata": {
            "needs_background": "light"
          }
        }
      ]
    },
    {
      "cell_type": "markdown",
      "metadata": {
        "id": "eqG85M14L2IJ"
      },
      "source": [
        "## Solve and Visualize for 3rd Order (1.5 mark)"
      ]
    },
    {
      "cell_type": "code",
      "metadata": {
        "id": "8RIsA7kCLvWa",
        "colab": {
          "base_uri": "https://localhost:8080/",
          "height": 684
        },
        "outputId": "d0b6fcc5-80a1-4b44-bb56-7101d5ac4793"
      },
      "source": [
        "import pandas as pd\n",
        "\n",
        "file=pd.read_csv('3rd_order.csv')\n",
        "\n",
        "X=file['x']\n",
        "Y=file['y']\n",
        "n=40\n",
        "order=3\n",
        "object1 = Regression(order=3,bias=True)\n",
        "besterr,bestfit,inliers_x,inliers_y,inliers_indices= object1.solve(X,Y,n,10000)\n",
        "\n",
        "object1.visualize(X,Y,bestfit,inliers_x,inliers_y,inliers_indices,True)"
      ],
      "execution_count": null,
      "outputs": [
        {
          "output_type": "stream",
          "name": "stdout",
          "text": [
            "[[0.7836459 ]\n",
            " [2.00519959]\n",
            " [3.56021073]\n",
            " [3.78935967]]\n",
            "3.336466023819207\n"
          ]
        },
        {
          "output_type": "display_data",
          "data": {
            "image/png": "[encoded data removed]",
            "text/plain": [
              "<Figure size 720x720 with 1 Axes>"
            ]
          },
          "metadata": {
            "needs_background": "light"
          }
        }
      ]
    },
    {
      "cell_type": "markdown",
      "metadata": {
        "id": "oHL574H8L6mQ"
      },
      "source": [
        "## Solve and Visualize for 4th Order (1.5 mark)"
      ]
    },
    {
      "cell_type": "code",
      "metadata": {
        "id": "8QyCw3bkL7o9",
        "colab": {
          "base_uri": "https://localhost:8080/",
          "height": 702
        },
        "outputId": "1a9576f8-d5b6-4e03-8fc1-43c3ab0949fd"
      },
      "source": [
        "import pandas as pd\n",
        "\n",
        "file=pd.read_csv('4th_order.csv')\n",
        "\n",
        "X=file['x']\n",
        "Y=file['y']\n",
        "n=40\n",
        "order=4\n",
        "object1 = Regression(order=4,bias=True)\n",
        "besterr,bestfit,inliers_x,inliers_y,inliers_indices= object1.solve(X,Y,n,10000)\n",
        "\n",
        "object1.visualize(X,Y,bestfit,inliers_x,inliers_y,inliers_indices,True)"
      ],
      "execution_count": null,
      "outputs": [
        {
          "output_type": "stream",
          "name": "stdout",
          "text": [
            "[[1.1003764 ]\n",
            " [2.67732479]\n",
            " [3.81658832]\n",
            " [2.72643527]\n",
            " [3.65556093]]\n",
            "7.225009062277632\n"
          ]
        },
        {
          "output_type": "display_data",
          "data": {
            "image/png": "[encoded data removed]",
            "text/plain": [
              "<Figure size 720x720 with 1 Axes>"
            ]
          },
          "metadata": {
            "needs_background": "light"
          }
        }
      ]
    },
    {
      "cell_type": "markdown",
      "metadata": {
        "id": "iJ8EO8Q-M10v"
      },
      "source": [
        "## Report"
      ]
    },
    {
      "cell_type": "markdown",
      "metadata": {
        "id": "Pg8HjKObM5bG"
      },
      "source": [
        "### What is Linear Regression? (1 mark)"
      ]
    },
    {
      "cell_type": "markdown",
      "metadata": {
        "id": "bat07JydnjGZ"
      },
      "source": [
        "Linear Regression is a type of predictive analysis. It is used to predict the value of a one variable based on the value of the another variable. The variable you want to predict is called the dependent variable. The variable you are using to predict the other variable's value is called the independent variable."
      ]
    },
    {
      "cell_type": "code",
      "metadata": {
        "id": "0Hr3dw3HM9da"
      },
      "source": [
        ""
      ],
      "execution_count": null,
      "outputs": []
    },
    {
      "cell_type": "markdown",
      "metadata": {
        "id": "ArfMyaWQM3ia"
      },
      "source": [
        "### Why RANSAC? (1 mark)"
      ]
    },
    {
      "cell_type": "markdown",
      "metadata": {
        "id": "KIz2KNNRr1gz"
      },
      "source": [
        "We use RANSAC because it is a iterative method which estimate the parameters of mathematical model without the influence of outliers. An advantage of RANSAC is its ability to do robust estimation of the model parameters, i.e., it can estimate the parameters with a high degree of accuracy even when a significant number of outliers are present in the data set."
      ]
    },
    {
      "cell_type": "code",
      "metadata": {
        "id": "POe4sumaM210"
      },
      "source": [
        ""
      ],
      "execution_count": null,
      "outputs": []
    },
    {
      "cell_type": "markdown",
      "metadata": {
        "id": "seghjWxDjI9f"
      },
      "source": [
        "### How does RANSAC help curve fitting? (1.5 marks) \n",
        "[not more than 4-5 sentences]"
      ]
    },
    {
      "cell_type": "markdown",
      "metadata": {
        "id": "s17hlW7EsFr4"
      },
      "source": [
        "The RANSAC algorithm creates a fit from a small sample of points but tries to maximize the number of inlier points. \n",
        "\n",
        "The RANSAC algorithm is essentially composed of two steps that are iteratively repeated:\n",
        "\n",
        "1.In the first step, a sample subset containing minimal data items is randomly selected from the input dataset. A fitting model and the corresponding model parameters are computed using only the elements of this sample subset. \n",
        "\n",
        "2.In the second step, the algorithm checks which elements of the entire dataset are consistent with the model instantiated by the estimated model parameters obtained from the first step. "
      ]
    },
    {
      "cell_type": "code",
      "metadata": {
        "id": "xKpfhwMFjU2K"
      },
      "source": [
        ""
      ],
      "execution_count": null,
      "outputs": []
    }
  ]
}